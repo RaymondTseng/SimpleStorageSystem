{
 "cells": [
  {
   "cell_type": "code",
   "execution_count": 10,
   "metadata": {},
   "outputs": [],
   "source": [
    "import pandas as pd\n",
    "import matplotlib.pyplot as plt\n",
    "import numpy as np"
   ]
  },
  {
   "cell_type": "code",
   "execution_count": 26,
   "metadata": {},
   "outputs": [],
   "source": [
    "import xlrd\n",
    "import csv\n",
    "\n",
    "def csv_from_excel():\n",
    "    wb = xlrd.open_workbook('~/Documents/GitHub/SimpleStorageSystem/data_nofault_c.xlsx')\n",
    "    sh = wb.sheet_by_name('Sheet1')\n",
    "    your_csv_file = open('csvtest.csv', 'w')\n",
    "    wr = csv.writer(your_csv_file, quoting=csv.QUOTE_ALL)\n",
    "\n",
    "    for rownum in range(sh.nrows):\n",
    "        wr.writerow(sh.row_values(rownum))\n",
    "\n",
    "    your_csv_file.close()\n",
    "\n",
    "# runs the csv_from_excel function:\n",
    "csv_from_excel()"
   ]
  },
  {
   "cell_type": "code",
   "execution_count": 27,
   "metadata": {},
   "outputs": [],
   "source": [
    "df= pd.read_csv(\"csvtest.csv\")"
   ]
  },
  {
   "cell_type": "code",
   "execution_count": 28,
   "metadata": {},
   "outputs": [
    {
     "data": {
      "text/html": [
       "<div>\n",
       "<style scoped>\n",
       "    .dataframe tbody tr th:only-of-type {\n",
       "        vertical-align: middle;\n",
       "    }\n",
       "\n",
       "    .dataframe tbody tr th {\n",
       "        vertical-align: top;\n",
       "    }\n",
       "\n",
       "    .dataframe thead th {\n",
       "        text-align: right;\n",
       "    }\n",
       "</style>\n",
       "<table border=\"1\" class=\"dataframe\">\n",
       "  <thead>\n",
       "    <tr style=\"text-align: right;\">\n",
       "      <th></th>\n",
       "      <th>M</th>\n",
       "      <th>N</th>\n",
       "      <th>F</th>\n",
       "      <th>C</th>\n",
       "      <th>Message Exchanged</th>\n",
       "      <th>Bytes Transferred</th>\n",
       "      <th>Response Time</th>\n",
       "    </tr>\n",
       "  </thead>\n",
       "  <tbody>\n",
       "    <tr>\n",
       "      <td>0</td>\n",
       "      <td>100.0</td>\n",
       "      <td>30.0</td>\n",
       "      <td>100.0</td>\n",
       "      <td>1.0</td>\n",
       "      <td>503.0</td>\n",
       "      <td>107280.0</td>\n",
       "      <td>26714323.0</td>\n",
       "    </tr>\n",
       "    <tr>\n",
       "      <td>1</td>\n",
       "      <td>100.0</td>\n",
       "      <td>30.0</td>\n",
       "      <td>100.0</td>\n",
       "      <td>2.0</td>\n",
       "      <td>489.0</td>\n",
       "      <td>105003.0</td>\n",
       "      <td>16508822.0</td>\n",
       "    </tr>\n",
       "    <tr>\n",
       "      <td>2</td>\n",
       "      <td>100.0</td>\n",
       "      <td>30.0</td>\n",
       "      <td>100.0</td>\n",
       "      <td>3.0</td>\n",
       "      <td>482.0</td>\n",
       "      <td>85740.0</td>\n",
       "      <td>13977858.0</td>\n",
       "    </tr>\n",
       "    <tr>\n",
       "      <td>3</td>\n",
       "      <td>100.0</td>\n",
       "      <td>30.0</td>\n",
       "      <td>100.0</td>\n",
       "      <td>4.0</td>\n",
       "      <td>485.0</td>\n",
       "      <td>93728.0</td>\n",
       "      <td>10093811.0</td>\n",
       "    </tr>\n",
       "    <tr>\n",
       "      <td>4</td>\n",
       "      <td>100.0</td>\n",
       "      <td>30.0</td>\n",
       "      <td>100.0</td>\n",
       "      <td>5.0</td>\n",
       "      <td>505.0</td>\n",
       "      <td>126013.0</td>\n",
       "      <td>11120685.0</td>\n",
       "    </tr>\n",
       "  </tbody>\n",
       "</table>\n",
       "</div>"
      ],
      "text/plain": [
       "       M     N      F    C  Message Exchanged  Bytes Transferred  \\\n",
       "0  100.0  30.0  100.0  1.0              503.0           107280.0   \n",
       "1  100.0  30.0  100.0  2.0              489.0           105003.0   \n",
       "2  100.0  30.0  100.0  3.0              482.0            85740.0   \n",
       "3  100.0  30.0  100.0  4.0              485.0            93728.0   \n",
       "4  100.0  30.0  100.0  5.0              505.0           126013.0   \n",
       "\n",
       "   Response Time  \n",
       "0     26714323.0  \n",
       "1     16508822.0  \n",
       "2     13977858.0  \n",
       "3     10093811.0  \n",
       "4     11120685.0  "
      ]
     },
     "execution_count": 28,
     "metadata": {},
     "output_type": "execute_result"
    }
   ],
   "source": [
    "df.head()"
   ]
  },
  {
   "cell_type": "code",
   "execution_count": 14,
   "metadata": {},
   "outputs": [],
   "source": [
    "xaxis = 'N'\n",
    "yaxis = 'Bytes Transferred'\n",
    "x = df[xaxis]\n",
    "y = df[yaxis]\n",
    "\n",
    "maxis = 'N'\n",
    "naxis = 'Message Exchanged'\n",
    "m = df[maxis]\n",
    "n = df[naxis]"
   ]
  },
  {
   "cell_type": "code",
   "execution_count": 15,
   "metadata": {},
   "outputs": [
    {
     "data": {
      "image/png": "[encoded data removed]",
      "text/plain": [
       "<Figure size 432x288 with 2 Axes>"
      ]
     },
     "metadata": {
      "needs_background": "light"
     },
     "output_type": "display_data"
    }
   ],
   "source": [
    "plt.subplot(1,2,1)\n",
    "plt.plot(x, y, \"bo\")\n",
    "fp2 = np.polyfit(x,y,3)\n",
    "f2 = np.poly1d(fp2)\n",
    "\n",
    "fx = df[xaxis]\n",
    "plt.plot(fx,f2(fx),linewidth=4,color='r')## f2.order: 函数的阶数\n",
    "plt.legend([\"d=%i\" % 3],loc=\"upper right\")\n",
    "plt.xlabel(xaxis)\n",
    "plt.ylabel(yaxis)\n",
    "\n",
    "\n",
    "plt.subplot(1,2,2)\n",
    "plt.plot(m, n, \"bo\")\n",
    "fp2 = np.polyfit(m,n,3)\n",
    "f2 = np.poly1d(fp2)\n",
    "\n",
    "fx = df[maxis]\n",
    "plt.plot(fx,f2(fx),linewidth=4,color='r')## f2.order: 函数的阶数\n",
    "plt.legend([\"d=%i\" % 3],loc=\"upper right\")\n",
    "plt.xlabel(maxis)\n",
    "plt.ylabel(naxis)\n",
    "plt.subplots_adjust(left=None, bottom=None, right=2, top=None,\n",
    "                wspace=None, hspace=None)\n",
    "plt.show()"
   ]
  },
  {
   "cell_type": "code",
   "execution_count": 29,
   "metadata": {},
   "outputs": [],
   "source": [
    "xaxis = 'C'\n",
    "yaxis = 'Response Time'\n",
    "x = df[xaxis]\n",
    "y = df[yaxis]"
   ]
  },
  {
   "cell_type": "code",
   "execution_count": 30,
   "metadata": {},
   "outputs": [
    {
     "data": {
      "text/plain": [
       "Text(0, 0.5, 'Response Time')"
      ]
     },
     "execution_count": 30,
     "metadata": {},
     "output_type": "execute_result"
    },
    {
     "data": {
      "image/png": "[encoded data removed]",
      "text/plain": [
       "<Figure size 432x288 with 1 Axes>"
      ]
     },
     "metadata": {
      "needs_background": "light"
     },
     "output_type": "display_data"
    }
   ],
   "source": [
    "plt.plot(x, y, \"bo\")\n",
    "fp2 = np.polyfit(x,y,3)\n",
    "f2 = np.poly1d(fp2)\n",
    "\n",
    "fx = df[xaxis]\n",
    "plt.plot(fx,f2(fx),linewidth=4,color='r')## f2.order: 函数的阶数\n",
    "plt.legend([\"d=%i\" % 100],loc=\"upper right\")\n",
    "plt.xlabel(xaxis)\n",
    "plt.ylabel(yaxis)"
   ]
  },
  {
   "cell_type": "code",
   "execution_count": null,
   "metadata": {},
   "outputs": [],
   "source": []
  }
 ],
 "metadata": {
  "kernelspec": {
   "display_name": "Python 3",
   "language": "python",
   "name": "python3"
  },
  "language_info": {
   "codemirror_mode": {
    "name": "ipython",
    "version": 3
   },
   "file_extension": ".py",
   "mimetype": "text/x-python",
   "name": "python",
   "nbconvert_exporter": "python",
   "pygments_lexer": "ipython3",
   "version": "3.7.4"
  }
 },
 "nbformat": 4,
 "nbformat_minor": 2
}
