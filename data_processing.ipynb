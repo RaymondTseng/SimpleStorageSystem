{
 "cells": [
  {
   "cell_type": "code",
   "execution_count": 2,
   "metadata": {},
   "outputs": [],
   "source": [
    "import pandas as pd\n",
    "import matplotlib.pyplot as plt\n",
    "import numpy as np"
   ]
  },
  {
   "cell_type": "code",
   "execution_count": 8,
   "metadata": {},
   "outputs": [],
   "source": [
    "import xlrd\n",
    "import csv\n",
    "\n",
    "def csv_from_excel():\n",
    "    wb = xlrd.open_workbook('~/Documents/GitHub/SimpleStorageSystem/data.xlsx')\n",
    "    sh = wb.sheet_by_name('Sheet1')\n",
    "    your_csv_file = open('csvtest.csv', 'w')\n",
    "    wr = csv.writer(your_csv_file, quoting=csv.QUOTE_ALL)\n",
    "\n",
    "    for rownum in range(sh.nrows):\n",
    "        wr.writerow(sh.row_values(rownum))\n",
    "\n",
    "    your_csv_file.close()\n",
    "\n",
    "# runs the csv_from_excel function:\n",
    "csv_from_excel()"
   ]
  },
  {
   "cell_type": "code",
   "execution_count": 9,
   "metadata": {},
   "outputs": [],
   "source": [
    "df= pd.read_csv(\"csvtest.csv\")"
   ]
  },
  {
   "cell_type": "code",
   "execution_count": 10,
   "metadata": {},
   "outputs": [
    {
     "data": {
      "text/html": [
       "<div>\n",
       "<style scoped>\n",
       "    .dataframe tbody tr th:only-of-type {\n",
       "        vertical-align: middle;\n",
       "    }\n",
       "\n",
       "    .dataframe tbody tr th {\n",
       "        vertical-align: top;\n",
       "    }\n",
       "\n",
       "    .dataframe thead th {\n",
       "        text-align: right;\n",
       "    }\n",
       "</style>\n",
       "<table border=\"1\" class=\"dataframe\">\n",
       "  <thead>\n",
       "    <tr style=\"text-align: right;\">\n",
       "      <th></th>\n",
       "      <th>M</th>\n",
       "      <th>N</th>\n",
       "      <th>F</th>\n",
       "      <th>C</th>\n",
       "      <th>Message Exchanged</th>\n",
       "      <th>Bytes Transferred</th>\n",
       "      <th>Response Time</th>\n",
       "    </tr>\n",
       "  </thead>\n",
       "  <tbody>\n",
       "    <tr>\n",
       "      <td>0</td>\n",
       "      <td>50.0</td>\n",
       "      <td>30.0</td>\n",
       "      <td>100.0</td>\n",
       "      <td>1.0</td>\n",
       "      <td>200.0</td>\n",
       "      <td>17577.0</td>\n",
       "      <td>16723.04</td>\n",
       "    </tr>\n",
       "    <tr>\n",
       "      <td>1</td>\n",
       "      <td>100.0</td>\n",
       "      <td>30.0</td>\n",
       "      <td>100.0</td>\n",
       "      <td>1.0</td>\n",
       "      <td>200.0</td>\n",
       "      <td>16770.0</td>\n",
       "      <td>1664593.00</td>\n",
       "    </tr>\n",
       "    <tr>\n",
       "      <td>2</td>\n",
       "      <td>150.0</td>\n",
       "      <td>30.0</td>\n",
       "      <td>100.0</td>\n",
       "      <td>1.0</td>\n",
       "      <td>200.0</td>\n",
       "      <td>19238.0</td>\n",
       "      <td>1687568.00</td>\n",
       "    </tr>\n",
       "    <tr>\n",
       "      <td>3</td>\n",
       "      <td>200.0</td>\n",
       "      <td>30.0</td>\n",
       "      <td>100.0</td>\n",
       "      <td>1.0</td>\n",
       "      <td>200.0</td>\n",
       "      <td>18716.0</td>\n",
       "      <td>1322653.00</td>\n",
       "    </tr>\n",
       "    <tr>\n",
       "      <td>4</td>\n",
       "      <td>250.0</td>\n",
       "      <td>30.0</td>\n",
       "      <td>100.0</td>\n",
       "      <td>1.0</td>\n",
       "      <td>200.0</td>\n",
       "      <td>35503.0</td>\n",
       "      <td>1354359.00</td>\n",
       "    </tr>\n",
       "  </tbody>\n",
       "</table>\n",
       "</div>"
      ],
      "text/plain": [
       "       M     N      F    C  Message Exchanged  Bytes Transferred  \\\n",
       "0   50.0  30.0  100.0  1.0              200.0            17577.0   \n",
       "1  100.0  30.0  100.0  1.0              200.0            16770.0   \n",
       "2  150.0  30.0  100.0  1.0              200.0            19238.0   \n",
       "3  200.0  30.0  100.0  1.0              200.0            18716.0   \n",
       "4  250.0  30.0  100.0  1.0              200.0            35503.0   \n",
       "\n",
       "   Response Time  \n",
       "0       16723.04  \n",
       "1     1664593.00  \n",
       "2     1687568.00  \n",
       "3     1322653.00  \n",
       "4     1354359.00  "
      ]
     },
     "execution_count": 10,
     "metadata": {},
     "output_type": "execute_result"
    }
   ],
   "source": [
    "df.head()"
   ]
  },
  {
   "cell_type": "code",
   "execution_count": 20,
   "metadata": {},
   "outputs": [],
   "source": [
    "xaxis = 'M'\n",
    "yaxis = 'Bytes Transferred'\n",
    "x = df[xaxis]\n",
    "y = df[yaxis]"
   ]
  },
  {
   "cell_type": "code",
   "execution_count": 22,
   "metadata": {},
   "outputs": [
    {
     "data": {
      "image/png": "[encoded data removed]",
      "text/plain": [
       "<Figure size 432x288 with 1 Axes>"
      ]
     },
     "metadata": {
      "needs_background": "light"
     },
     "output_type": "display_data"
    }
   ],
   "source": [
    "plt.plot(x, y, \"bo\")\n",
    "fp2 = np.polyfit(x,y,3)\n",
    "f2 = np.poly1d(fp2)\n",
    "\n",
    "fx = df['M']\n",
    "plt.plot(fx,f2(fx),linewidth=4,color='r')## f2.order: 函数的阶数\n",
    "plt.legend([\"d=%i\" % 3],loc=\"upper right\")\n",
    "plt.xlabel(xaxis)\n",
    "plt.ylabel(yaxis)\n",
    "plt.show()"
   ]
  },
  {
   "cell_type": "code",
   "execution_count": null,
   "metadata": {},
   "outputs": [],
   "source": []
  }
 ],
 "metadata": {
  "kernelspec": {
   "display_name": "Python 3",
   "language": "python",
   "name": "python3"
  },
  "language_info": {
   "codemirror_mode": {
    "name": "ipython",
    "version": 3
   },
   "file_extension": ".py",
   "mimetype": "text/x-python",
   "name": "python",
   "nbconvert_exporter": "python",
   "pygments_lexer": "ipython3",
   "version": "3.7.4"
  }
 },
 "nbformat": 4,
 "nbformat_minor": 2
}
